{
 "cells": [
  {
   "cell_type": "code",
   "execution_count": 2,
   "metadata": {},
   "outputs": [],
   "source": [
    "import os\n",
    "import pandas as pd\n",
    "\n",
    "# filename为文件路径，file_num为拆分后的文件行数\n",
    "# 根据是否有表头执行不同程序，默认有表头的\n",
    "def Data_split(filename,file_num,header=True):\n",
    "    if header:\n",
    "        # 设置每个文件需要有的行数,初始化为1000W\n",
    "        chunksize=10000\n",
    "        data1=pd.read_table(filename,chunksize=chunksize,sep=',',encoding='gbk')\n",
    "        # print(data1)\n",
    "        # num表示总行数\n",
    "        num=0\n",
    "        for chunk in data1:\n",
    "            num+=len(chunk)\n",
    "        # print(num)\n",
    "        # chunksize表示每个文件需要分配到的行数\n",
    "        chunksize=round(num/file_num+1)\n",
    "        # print(chunksize)\n",
    "        # 分离文件名与扩展名os.path.split(filename)\n",
    "        head,tail=os.path.split(filename)\n",
    "        data2=pd.read_table(filename,chunksize=chunksize,sep=',',encoding='gbk')\n",
    "        i=0\n",
    "        for chunk in data2:\n",
    "            chunk.to_csv('{0}_{1}{2}'.format(head,i,tail),header=None,index=False)\n",
    "            print('保存第{0}个数据'.format(i))\n",
    "            i+=1\n",
    "    else:\n",
    "        # 获得每个文件需要的行数\n",
    "        chunksize=10000\n",
    "        data1=pd.read_table(filename,chunksize=chunksize,header=None,sep=',')\n",
    "        num=0\n",
    "        for chunk in data1:\n",
    "            num+=len(chunk)\n",
    "            chunksize=round(num/file_num+1)\n",
    "\n",
    "            head,tail=os.path.split(filename)\n",
    "            data2=pd.read_table(filename,chunksize=chunksize,header=None,sep=',')\n",
    "            i=0\n",
    "            for chunk in data2:\n",
    "                chunk.to_csv('{0}_{1}{2}'.foemat(head,i,tail),header=None,index=False)\n",
    "                print('保存第{0}个数据'.format(i))\n",
    "                i+=1"
   ]
  },
  {
   "cell_type": "code",
   "execution_count": 4,
   "metadata": {},
   "outputs": [
    {
     "name": "stdout",
     "output_type": "stream",
     "text": [
      "保存第0个数据\n",
      "保存第1个数据\n",
      "保存第2个数据\n",
      "保存第3个数据\n",
      "保存第4个数据\n"
     ]
    }
   ],
   "source": [
    "\n",
    "\n",
    "\n",
    "#num为拆分为的文件个数\n",
    "Data_split(filename,5,header=True)"
   ]
  },
  {
   "cell_type": "code",
   "execution_count": null,
   "metadata": {},
   "outputs": [],
   "source": []
  },
  {
   "cell_type": "code",
   "execution_count": null,
   "metadata": {},
   "outputs": [],
   "source": []
  }
 ],
 "metadata": {
  "kernelspec": {
   "display_name": "Python 3",
   "language": "python",
   "name": "python3"
  },
  "language_info": {
   "codemirror_mode": {
    "name": "ipython",
    "version": 3
   },
   "file_extension": ".py",
   "mimetype": "text/x-python",
   "name": "python",
   "nbconvert_exporter": "python",
   "pygments_lexer": "ipython3",
   "version": "3.6.5"
  }
 },
 "nbformat": 4,
 "nbformat_minor": 2
}
